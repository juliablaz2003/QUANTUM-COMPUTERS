{
  "nbformat": 4,
  "nbformat_minor": 0,
  "metadata": {
    "colab": {
      "provenance": [],
      "authorship_tag": "ABX9TyOQ+ZEuXjbE4i2zpF/ew+bt",
      "include_colab_link": true
    },
    "kernelspec": {
      "name": "python3",
      "display_name": "Python 3"
    },
    "language_info": {
      "name": "python"
    }
  },
  "cells": [
    {
      "cell_type": "markdown",
      "metadata": {
        "id": "view-in-github",
        "colab_type": "text"
      },
      "source": [
        "<a href=\"https://colab.research.google.com/github/juliablaz2003/QUANTUM-COMPUTERS/blob/main/CLASE_1.ipynb\" target=\"_parent\"><img src=\"https://colab.research.google.com/assets/colab-badge.svg\" alt=\"Open In Colab\"/></a>"
      ]
    },
    {
      "cell_type": "code",
      "execution_count": 1,
      "metadata": {
        "colab": {
          "base_uri": "https://localhost:8080/"
        },
        "id": "-CnxIz5NMFqe",
        "outputId": "4ea8c6be-534e-4d57-c8f5-7dbc1214f147"
      },
      "outputs": [
        {
          "output_type": "stream",
          "name": "stderr",
          "text": [
            "\r[*********************100%***********************]  1 of 1 completed"
          ]
        },
        {
          "output_type": "stream",
          "name": "stdout",
          "text": [
            "Los datos del IBEX 35 se han descargado correctamente y guardado en 'ibex35_2024.csv'\n"
          ]
        },
        {
          "output_type": "stream",
          "name": "stderr",
          "text": [
            "\n"
          ]
        }
      ],
      "source": [
        "import yfinance as yf\n",
        "\n",
        "# Descargar los datos históricos del IBEX 35\n",
        "ibex_data = yf.download(\"^IBEX\", start=\"2024-01-01\", end=\"2024-12-31\")\n",
        "\n",
        "# Guardar en un archivo CSV\n",
        "ibex_data.to_csv(\"ibex35_2024.csv\")\n",
        "print(\"Los datos del IBEX 35 se han descargado correctamente y guardado en 'ibex35_2024.csv'\")\n"
      ]
    }
  ]
}